{
 "cells": [
  {
   "cell_type": "markdown",
   "metadata": {
    "collapsed": true
   },
   "source": [
    " # Introduction/Business Problem"
   ]
  },
  {
   "cell_type": "markdown",
   "metadata": {},
   "source": [
    "## 1-  A description of the problem and a discussion of the background."
   ]
  },
  {
   "cell_type": "markdown",
   "metadata": {},
   "source": [
    "### 1.1 Background\n",
    "###### The Lisbon city, in Portugal, has becomed a touristic destiny.\n",
    "###### Although Lisbon is a small city, it has a variety of interestig places, also considerating its history backgroud, monuments and art. It is advantageous for who wants to start a business like a restaurant to find out where are the points of concentration of people, other restaurants, etc.\n",
    "\n",
    "### 1.2 Problem\n",
    "###### Data that might contribute to determining where a new backery shoud be installed might include: other backeries location, restaurants location, universities, metro stations, shoping centers, rent prices etc. \n",
    "\n",
    "### 1.3 Interest\n",
    "##### The place to install a new business is not irrelevant. It is a fundamental decision for  someone who is looking to open a new business."
   ]
  },
  {
   "cell_type": "markdown",
   "metadata": {},
   "source": [
    "## Data Section"
   ]
  },
  {
   "cell_type": "markdown",
   "metadata": {},
   "source": [
    "## 2 - A description of the data and how it will be used to solve the problem."
   ]
  },
  {
   "cell_type": "markdown",
   "metadata": {},
   "source": [
    "### Data Sources / Data Cleaning"
   ]
  },
  {
   "cell_type": "markdown",
   "metadata": {},
   "source": [
    "#### It will be foundamentally used Foursquare, in order to find geolocations and compare diferent locations. If other sources will complete the information, all the data should be aggregated in the same table."
   ]
  }
 ],
 "metadata": {
  "kernelspec": {
   "display_name": "Python 3.6 with Spark",
   "language": "python3",
   "name": "python36"
  },
  "language_info": {
   "codemirror_mode": {
    "name": "ipython",
    "version": 3
   },
   "file_extension": ".py",
   "mimetype": "text/x-python",
   "name": "python",
   "nbconvert_exporter": "python",
   "pygments_lexer": "ipython3",
   "version": "3.6.8"
  }
 },
 "nbformat": 4,
 "nbformat_minor": 1
}
